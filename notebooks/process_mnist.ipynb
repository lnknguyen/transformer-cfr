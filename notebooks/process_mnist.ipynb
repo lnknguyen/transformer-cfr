{
 "cells": [
  {
   "cell_type": "code",
   "execution_count": 1,
   "metadata": {},
   "outputs": [],
   "source": [
    "import torch\n",
    "import torchvision\n",
    "from torchvision import datasets\n",
    "import matplotlib.pyplot as plt\n",
    "import numpy as np\n",
    "import scipy\n",
    "import scipy.misc\n",
    "import scipy.stats as stats\n",
    "import scipy.io \n",
    "from scipy.special import expit\n",
    "from PIL import Image\n",
    "import os"
   ]
  },
  {
   "cell_type": "code",
   "execution_count": 2,
   "metadata": {},
   "outputs": [],
   "source": [
    "# Load MNIST\n",
    "raw_data_dir = \"../data/mnist/\"\n",
    "processed_data_dir = \"../data/mnist/processed/\"\n",
    "trans = torchvision.transforms.Compose([\n",
    "                               torchvision.transforms.ToTensor(),\n",
    "                               torchvision.transforms.Normalize(\n",
    "                                 (0.1307,), (0.3081,))])\n",
    "                           \n",
    "mnist_dataset = datasets.MNIST(raw_data_dir, download=True, transform=trans)"
   ]
  },
  {
   "cell_type": "markdown",
   "metadata": {},
   "source": [
    "Colorize the images by embedding a background, also add some pepper as noise."
   ]
  },
  {
   "cell_type": "code",
   "execution_count": 3,
   "metadata": {},
   "outputs": [],
   "source": [
    "def colorize_image(img, pepper_amount=0.05):\n",
    "    color_img = Image.open(raw_data_dir + 'sample.jpg')\n",
    "    color_img = color_img.resize((128, 128)) \n",
    "    img = img.reshape(28, 28, 1) / 255.0\n",
    "\n",
    "    # resize the mnist images to 64 x 64\n",
    "    sample_resized = scipy.ndimage.zoom(img, (2.3, 2.3, 1), order=1)\n",
    "    rgb_sample_digit = np.concatenate([sample_resized, sample_resized, sample_resized], axis=2)\n",
    "    sample_binary = (rgb_sample_digit > 0.5)\n",
    "\n",
    "    x_c = np.random.randint(0, color_img.size[0] - 64)\n",
    "    y_c = np.random.randint(0, color_img.size[1] - 64)\n",
    "    image = color_img.crop((x_c, y_c, x_c + 64, y_c + 64))\n",
    "    image = np.asarray(image) / 255.0\n",
    "\n",
    "    colorized_image = np.zeros_like(rgb_sample_digit)\n",
    "    for ch in range(3):\n",
    "        img_chwise = image[:, :, ch]\n",
    "        ch_binary = sample_binary[:, :, ch]\n",
    "        # color jitter\n",
    "        img_chwise = (img_chwise + np.random.uniform(0, 0.2)) / 2.0\n",
    "        # add pepper\n",
    "        num_pepper_pixels = np.ceil(pepper_amount * img_chwise.size)\n",
    "        r_size, c_size = img_chwise.shape\n",
    "\n",
    "        row_coords = np.random.randint(0, r_size-1, int(num_pepper_pixels))\n",
    "        col_coords = np.random.randint(0, c_size-1, int(num_pepper_pixels))\n",
    "        # only apply the pepper to pixels that are not \n",
    "        # part of the original digit activation\n",
    "        for coord_idx in zip(row_coords, col_coords):\n",
    "            if not ch_binary[coord_idx]:\n",
    "                img_chwise[coord_idx] = 0\n",
    "\n",
    "        # reduce the pixel value for the background image\n",
    "        # so we can easily distingush between the digit pixels\n",
    "        # and the background pixels. \n",
    "        # In this setting, the larger pixel values will always be\n",
    "        # be associated with the useful \"codes\". \n",
    "        img_chwise /= 1.5\n",
    "        img_chwise[ch_binary] = 1 - img_chwise[ch_binary]\n",
    "        colorized_image[:, :, ch] = img_chwise\n",
    "\n",
    "    return (colorized_image * 255).astype(np.uint8), (sample_resized.squeeze() * 255).astype(np.uint8)"
   ]
  },
  {
   "cell_type": "code",
   "execution_count": 4,
   "metadata": {},
   "outputs": [
    {
     "data": {
      "image/png": "[encoded data removed]",
      "text/plain": [
       "<Figure size 432x288 with 1 Axes>"
      ]
     },
     "metadata": {
      "needs_background": "light"
     },
     "output_type": "display_data"
    }
   ],
   "source": [
    "colorized_img, sample_img = colorize_image(mnist_dataset.data[0], pepper_amount = 0.1)\n",
    "\n",
    "im1 = plt.imshow(colorized_img)\n",
    "plt.show()"
   ]
  },
  {
   "cell_type": "markdown",
   "metadata": {},
   "source": [
    "Next, groups every 4 pixels into a chunk, which represents a single visit. Then, randomly drops some chunks to mimic the missing nature of EHR."
   ]
  },
  {
   "cell_type": "code",
   "execution_count": 5,
   "metadata": {},
   "outputs": [],
   "source": [
    "def drop_row_chunks_from_image(input_image, chunk_size, drop_ratio):\n",
    "    \"\"\"\n",
    "    Drops random chunks of pixels from the input_image. To do this, we create a mask\n",
    "    having ones at locations where we'd like to retain the chunks and zeroes where\n",
    "    we'd like them dropped. \n",
    "    The mask itself is created using a kronecker product, which is used to create\n",
    "    block matrices.\n",
    "    \"\"\"\n",
    "    dropped_image = np.zeros_like(input_image)\n",
    "    # 1. mask is a kronecker product of two matrices\n",
    "    # 2. the bigger matrix has ones where we'd like to retain\n",
    "    # the chunks and zeroes where we'd like them dropped\n",
    "    # 3. The smaller matrix is of size == chunk_size (in our case 4 pixels in a row)\n",
    "    kr_mask_bigger = np.ones((\n",
    "        input_image.shape[0], \n",
    "        input_image.shape[1]//chunk_size\n",
    "    ))\n",
    "    kr_mask_smaller = np.ones((chunk_size,))\n",
    "    chunks_to_drop = int(kr_mask_bigger.size * drop_ratio)\n",
    "    drop_indices = np.random.choice(\n",
    "        a=kr_mask_bigger.size, \n",
    "        size=chunks_to_drop, \n",
    "        replace=False\n",
    "    )\n",
    "    kr_mask_bigger.flat[drop_indices] = 0\n",
    "    img_mask = np.kron(kr_mask_bigger, kr_mask_smaller)\n",
    "    for ch in range(3):\n",
    "        img_ch = input_image[:, :, ch]\n",
    "        img_ch_dropped = img_ch * img_mask\n",
    "        dropped_image[:, :, ch] = img_ch_dropped\n",
    "    \n",
    "    return dropped_image"
   ]
  },
  {
   "cell_type": "code",
   "execution_count": 9,
   "metadata": {},
   "outputs": [
    {
     "data": {
      "image/png": "[encoded data removed]",
      "text/plain": [
       "<Figure size 432x288 with 1 Axes>"
      ]
     },
     "metadata": {
      "needs_background": "light"
     },
     "output_type": "display_data"
    }
   ],
   "source": [
    "dropped_img = drop_row_chunks_from_image(colorized_img, chunk_size = 4, drop_ratio = 0.1)\n",
    "\n",
    "im1 = plt.imshow(dropped_img)\n",
    "plt.show()"
   ]
  },
  {
   "cell_type": "markdown",
   "metadata": {},
   "source": [
    "Finally, combine the above functions into one single func."
   ]
  },
  {
   "cell_type": "code",
   "execution_count": 10,
   "metadata": {},
   "outputs": [],
   "source": [
    "def add_noise_and_colorize(images, labels, pepper_amount):\n",
    "    \n",
    "    # Upper top of the image\n",
    "    upper_box_64 = (0, 0, 64, 32)\n",
    "\n",
    "    # Extract digits eight and nine\n",
    "    eight_idx = torch.tensor(labels)==8\n",
    "    eight_imgs = images[eight_idx]\n",
    "    eight_labels = labels[eight_idx]\n",
    "\n",
    "    nine_idx = torch.tensor(labels)==9\n",
    "    nine_imgs = images[nine_idx]\n",
    "    nine_labels = labels[nine_idx]\n",
    "\n",
    "    imgs = np.concatenate((eight_imgs, nine_imgs))\n",
    "    labels = np.concatenate((eight_labels, nine_labels))\n",
    "    X_colored = []\n",
    "    \n",
    "    # Process X\n",
    "    print(\"processing x\")\n",
    "    for i in range(imgs.shape[0]):\n",
    "        p_img = imgs[i, :, :]\n",
    "        \n",
    "        colorized_img, _ = colorize_image(p_img, pepper_amount)\n",
    "        dropped_image = drop_row_chunks_from_image(colorized_img, 4, 0.2)\n",
    "        p_img_color = Image.fromarray(dropped_image)\n",
    "        upper_r = np.array(p_img_color.crop(box=upper_box_64))\n",
    "\n",
    "        X_colored.append(np.expand_dims(upper_r, axis=0))\n",
    "\n",
    "    out_dir = processed_data_dir + 'colorized-noisy-mnist.npz'\n",
    "    X_colored = np.array(X_colored)\n",
    "    np.savez(\n",
    "        out_dir, \n",
    "        x = X_colored,\n",
    "        labels = labels\n",
    "    )\n",
    "    print(\"done!\")"
   ]
  },
  {
   "cell_type": "code",
   "execution_count": 11,
   "metadata": {},
   "outputs": [
    {
     "name": "stderr",
     "output_type": "stream",
     "text": [
      "<ipython-input-10-ca015a012185>:7: UserWarning: To copy construct from a tensor, it is recommended to use sourceTensor.clone().detach() or sourceTensor.clone().detach().requires_grad_(True), rather than torch.tensor(sourceTensor).\n",
      "  eight_idx = torch.tensor(labels)==8\n",
      "<ipython-input-10-ca015a012185>:11: UserWarning: To copy construct from a tensor, it is recommended to use sourceTensor.clone().detach() or sourceTensor.clone().detach().requires_grad_(True), rather than torch.tensor(sourceTensor).\n",
      "  nine_idx = torch.tensor(labels)==9\n"
     ]
    },
    {
     "name": "stdout",
     "output_type": "stream",
     "text": [
      "processing x\n",
      "done!\n"
     ]
    }
   ],
   "source": [
    "add_noise_and_colorize(mnist_dataset.data, mnist_dataset.targets, pepper_amount = 0.1)"
   ]
  },
  {
   "cell_type": "markdown",
   "metadata": {},
   "source": [
    "Assigning treatment and potential outcomes. "
   ]
  },
  {
   "cell_type": "code",
   "execution_count": 12,
   "metadata": {},
   "outputs": [],
   "source": [
    "import random\n",
    "from scipy.special import expit, logit\n",
    "from scipy.stats import bernoulli\n",
    "def prepare_treatment_and_confounder():\n",
    "\n",
    "    \"\"\"\n",
    "    Simulate treatment and outcome for MNIST dataset\n",
    "\n",
    "    Parameters:\n",
    "        outcome_type (str): 'binary' or 'continuous'\n",
    "        beta0 (float): Treatment strength, indicates the influence of the treatment on outcomes\n",
    "        beta1 (float): Confounding strength, indicates the influence of confounders on outcomes\n",
    "        gamma (float): mean value to sample noise from (eps ~ N(0, gamma))\n",
    "        \n",
    "    Returns:\n",
    "        nil\n",
    "    \"\"\"\n",
    "    data_dir = processed_data_dir + 'colorized-noisy-mnist.npz'\n",
    "    \n",
    "    # Prepare the colorized and noisy dataset if file not found from disk\n",
    "    if os.path.isfile(data_dir) == False:\n",
    "        add_noise_and_colorize(mnist_dataset.data, mnist_dataset.targets)\n",
    "\n",
    "    data = np.load(data_dir)\n",
    "    images = data[\"x\"]\n",
    "    labels = data[\"labels\"]\n",
    "    seq1, seq2, seq3 = images[:, :, :, :, 0], images[:, :, :, :, 1], images[:, :, :, :, 2]\n",
    "    no = images.shape[0] # num samples\n",
    "    dim = images.shape[2] * images.shape[3] # weight vector dim (48x64)\n",
    "     \n",
    "    # Let the digit value be a confounder\n",
    "    # That is, '8' patients will more likely receive treatments compared to the '9' patients\n",
    "    t = np.zeros([no,])\n",
    "    for i in range(len(labels)):\n",
    "        if labels[i] == 8:\n",
    "            t[i] = 1 if random.random() < 0.5 else 0\n",
    "        else:\n",
    "            t[i] = 1 if random.random() < 0.1 else 0\n",
    "    \n",
    "    # True propensity score: the proportion of t=1 in each strata (8 or 9)\n",
    "    e_idx = np.where(labels == 8)\n",
    "    n_idx = np.where(labels ==  9)\n",
    "    \n",
    "    pi = np.zeros([no,])\n",
    "    \n",
    "    # proportion = |t[idx] = 1| / |t[idx]|\n",
    "    pi[e_idx] = len(np.where(t[e_idx] == 1)[0]) / len(t[e_idx])\n",
    "    pi[n_idx] = len(np.where(t[n_idx] == 1)[0]) / len(t[n_idx])\n",
    "          \n",
    "    xs_1, xs_2, xs_3 = [], [], []\n",
    "    for idx in range(no):\n",
    "        # prepare x_oracles\n",
    "        x_sample_r = images[idx][:, :, :, 0].reshape((-1, 4))\n",
    "        x_sample_r = np.concatenate([x_sample_r, 256 * np.ones((x_sample_r.shape[0], 1))], axis=1)\n",
    "        x_sample_r = np.concatenate([x_sample_r.flatten(), np.array([257])], axis=0)\n",
    "        x_sample_r = x_sample_r.astype(np.int32)\n",
    "        xs_1.append(x_sample_r)\n",
    "\n",
    "        x_sample_r = images[idx][:, :, :, 1].reshape((-1, 4))\n",
    "        x_sample_r = np.concatenate([x_sample_r, 256 * np.ones((x_sample_r.shape[0], 1))], axis=1)\n",
    "        x_sample_r = np.concatenate([x_sample_r.flatten(), np.array([257])], axis=0)\n",
    "        x_sample_r = x_sample_r.astype(np.int32)\n",
    "        xs_2.append(x_sample_r)\n",
    "\n",
    "        x_sample_r = images[idx][:, :, :, 2].reshape((-1, 4))\n",
    "        x_sample_r = np.concatenate([x_sample_r, 256 * np.ones((x_sample_r.shape[0], 1))], axis=1)\n",
    "        x_sample_r = np.concatenate([x_sample_r.flatten(), np.array([257])], axis=0)\n",
    "        x_sample_r = x_sample_r.astype(np.int32)\n",
    "        xs_3.append(x_sample_r)\n",
    "\n",
    "    # all_Xs: context\n",
    "    # all_ts: treatments\n",
    "    # all_y0_trues, all_y1_trues: potential outcome given treatment 't'\n",
    "    # all_labels: factual outcome\n",
    "    print(\"saving...\")\n",
    "    out_dir = processed_data_dir + 'mnist-cfr.npz'\n",
    "    np.savez(\n",
    "        out_dir, \n",
    "        xs_1 = xs_1, xs_2 = xs_2, xs_3 = xs_3, t = t, confounder = pi\n",
    "    )\n",
    "    print(\"done!\")\n",
    "    "
   ]
  },
  {
   "cell_type": "code",
   "execution_count": 13,
   "metadata": {
    "scrolled": true
   },
   "outputs": [
    {
     "name": "stdout",
     "output_type": "stream",
     "text": [
      "saving...\n",
      "done!\n"
     ]
    }
   ],
   "source": [
    "prepare_treatment_and_confounder()"
   ]
  },
  {
   "cell_type": "code",
   "execution_count": null,
   "metadata": {},
   "outputs": [],
   "source": []
  }
 ],
 "metadata": {
  "kernelspec": {
   "display_name": "Python 3/anaconda",
   "language": "python",
   "name": "python3"
  },
  "language_info": {
   "codemirror_mode": {
    "name": "ipython",
    "version": 3
   },
   "file_extension": ".py",
   "mimetype": "text/x-python",
   "name": "python",
   "nbconvert_exporter": "python",
   "pygments_lexer": "ipython3",
   "version": "3.8.5"
  }
 },
 "nbformat": 4,
 "nbformat_minor": 4
}
